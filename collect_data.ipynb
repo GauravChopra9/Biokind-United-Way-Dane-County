{
 "cells": [
  {
   "cell_type": "markdown",
   "metadata": {},
   "source": [
    "Hide API_KEY"
   ]
  },
  {
   "cell_type": "code",
   "execution_count": 12,
   "metadata": {},
   "outputs": [],
   "source": [
    "import os\n",
    "from dotenv import load_dotenv\n",
    "\n",
    "load_dotenv()\n",
    "API_KEY = os.getenv(\"CENSUS_API_KEY\")"
   ]
  },
  {
   "cell_type": "code",
   "execution_count": 13,
   "metadata": {},
   "outputs": [],
   "source": [
    "counties = [\n",
    "    (\"Dane\", \"Wisconsin\"),\n",
    "    (\"Ramsey\", \"Minnesota\"),\n",
    "    (\"Ingham\", \"Michigan\"),\n",
    "    (\"Sangamon\", \"Illinois\"),\n",
    "    (\"Marion\", \"Indiana\"),\n",
    "    (\"Franklin\", \"Ohio\"),\n",
    "    (\"Polk\", \"Iowa\"),\n",
    "    (\"Lancaster\", \"Nebraska\"),\n",
    "    (\"Travis\", \"Texas\"),\n",
    "    (\"Multnomah\", \"Oregon\"),\n",
    "    (\"Wake\", \"North Carolina\"),\n",
    "    (\"Cook\", \"Illinois\"),\n",
    "    (\"Mecklenburg\", \"North Carolina\"),\n",
    "    (\"Brown\", \"Wisconsin\"),\n",
    "    (\"Milwaukee\", \"Wisconsin\"),\n",
    "    (\"Eau Claire\", \"Wisconsin\"),\n",
    "]"
   ]
  },
  {
   "cell_type": "markdown",
   "metadata": {},
   "source": [
    "Fetch Data from ACS Census API"
   ]
  },
  {
   "cell_type": "code",
   "execution_count": 14,
   "metadata": {},
   "outputs": [
    {
     "name": "stdout",
     "output_type": "stream",
     "text": [
      "Requesting: https://api.census.gov/data/2023/acs/acs5/subject?get=NAME%2CS1501_C02_014E%2CS1501_C02_015E%2CS1501_C02_007E&for=county%3A%2A&in=state%3A55&key=bc3a1c6219afbf6be5ff80935c508658b5903e45\n",
      "Requesting: https://api.census.gov/data/2023/acs/acs5/subject?get=NAME%2CS1501_C02_014E%2CS1501_C02_015E%2CS1501_C02_007E&for=county%3A%2A&in=state%3A27&key=bc3a1c6219afbf6be5ff80935c508658b5903e45\n",
      "Requesting: https://api.census.gov/data/2023/acs/acs5/subject?get=NAME%2CS1501_C02_014E%2CS1501_C02_015E%2CS1501_C02_007E&for=county%3A%2A&in=state%3A26&key=bc3a1c6219afbf6be5ff80935c508658b5903e45\n",
      "Requesting: https://api.census.gov/data/2023/acs/acs5/subject?get=NAME%2CS1501_C02_014E%2CS1501_C02_015E%2CS1501_C02_007E&for=county%3A%2A&in=state%3A17&key=bc3a1c6219afbf6be5ff80935c508658b5903e45\n",
      "Requesting: https://api.census.gov/data/2023/acs/acs5/subject?get=NAME%2CS1501_C02_014E%2CS1501_C02_015E%2CS1501_C02_007E&for=county%3A%2A&in=state%3A18&key=bc3a1c6219afbf6be5ff80935c508658b5903e45\n",
      "Requesting: https://api.census.gov/data/2023/acs/acs5/subject?get=NAME%2CS1501_C02_014E%2CS1501_C02_015E%2CS1501_C02_007E&for=county%3A%2A&in=state%3A39&key=bc3a1c6219afbf6be5ff80935c508658b5903e45\n",
      "Requesting: https://api.census.gov/data/2023/acs/acs5/subject?get=NAME%2CS1501_C02_014E%2CS1501_C02_015E%2CS1501_C02_007E&for=county%3A%2A&in=state%3A19&key=bc3a1c6219afbf6be5ff80935c508658b5903e45\n",
      "Requesting: https://api.census.gov/data/2023/acs/acs5/subject?get=NAME%2CS1501_C02_014E%2CS1501_C02_015E%2CS1501_C02_007E&for=county%3A%2A&in=state%3A31&key=bc3a1c6219afbf6be5ff80935c508658b5903e45\n",
      "Requesting: https://api.census.gov/data/2023/acs/acs5/subject?get=NAME%2CS1501_C02_014E%2CS1501_C02_015E%2CS1501_C02_007E&for=county%3A%2A&in=state%3A48&key=bc3a1c6219afbf6be5ff80935c508658b5903e45\n",
      "Requesting: https://api.census.gov/data/2023/acs/acs5/subject?get=NAME%2CS1501_C02_014E%2CS1501_C02_015E%2CS1501_C02_007E&for=county%3A%2A&in=state%3A41&key=bc3a1c6219afbf6be5ff80935c508658b5903e45\n",
      "Requesting: https://api.census.gov/data/2023/acs/acs5/subject?get=NAME%2CS1501_C02_014E%2CS1501_C02_015E%2CS1501_C02_007E&for=county%3A%2A&in=state%3A37&key=bc3a1c6219afbf6be5ff80935c508658b5903e45\n",
      "Requesting: https://api.census.gov/data/2023/acs/acs5/subject?get=NAME%2CS1501_C02_014E%2CS1501_C02_015E%2CS1501_C02_007E&for=county%3A%2A&in=state%3A17&key=bc3a1c6219afbf6be5ff80935c508658b5903e45\n",
      "Requesting: https://api.census.gov/data/2023/acs/acs5/subject?get=NAME%2CS1501_C02_014E%2CS1501_C02_015E%2CS1501_C02_007E&for=county%3A%2A&in=state%3A37&key=bc3a1c6219afbf6be5ff80935c508658b5903e45\n",
      "Requesting: https://api.census.gov/data/2023/acs/acs5/subject?get=NAME%2CS1501_C02_014E%2CS1501_C02_015E%2CS1501_C02_007E&for=county%3A%2A&in=state%3A55&key=bc3a1c6219afbf6be5ff80935c508658b5903e45\n",
      "Requesting: https://api.census.gov/data/2023/acs/acs5/subject?get=NAME%2CS1501_C02_014E%2CS1501_C02_015E%2CS1501_C02_007E&for=county%3A%2A&in=state%3A55&key=bc3a1c6219afbf6be5ff80935c508658b5903e45\n",
      "Requesting: https://api.census.gov/data/2023/acs/acs5/subject?get=NAME%2CS1501_C02_014E%2CS1501_C02_015E%2CS1501_C02_007E&for=county%3A%2A&in=state%3A55&key=bc3a1c6219afbf6be5ff80935c508658b5903e45\n"
     ]
    }
   ],
   "source": [
    "import requests\n",
    "import pandas as pd\n",
    "from us import states\n",
    "from urllib.parse import urlencode\n",
    "import csv\n",
    "\n",
    "results = []\n",
    "\n",
    "variables = [\n",
    "    \"S1501_C02_014E\",  # High school graduate or higher\n",
    "    \"S1501_C02_015E\",  # Bachelor's degree or higher\n",
    "    \"S1501_C02_007E\",  # 9th to 12th grade, no diploma\n",
    "]\n",
    "\n",
    "for county_name, state_name in counties:\n",
    "    state_fips = states.lookup(state_name).fips\n",
    "    url = \"https://api.census.gov/data/2023/acs/acs5/subject\"\n",
    "    params = {\n",
    "        \"get\": \"NAME,\" + \",\".join(variables),\n",
    "        \"for\": \"county:*\",\n",
    "        \"in\": f\"state:{state_fips}\",\n",
    "        \"key\": API_KEY\n",
    "    }\n",
    "\n",
    "    full_url = url + '?' + urlencode(params)\n",
    "    print(f\"Requesting: {full_url}\")\n",
    "\n",
    "    response = requests.get(full_url)\n",
    "\n",
    "    data = response.json()\n",
    "    headers = data[0]\n",
    "    rows = data[1:]\n",
    "\n",
    "    for row in rows:\n",
    "        row_dict = dict(zip(headers, row))\n",
    "        if county_name.lower() in row_dict[\"NAME\"].lower():\n",
    "            results.append({\n",
    "                \"County\": row_dict[\"NAME\"],\n",
    "                \"High School Grad or Higher (%)\": row_dict[\"S1501_C02_014E\"],\n",
    "                \"Bachelor's Degree or Higher (%)\": row_dict[\"S1501_C02_015E\"],\n",
    "                \"9th to 12th Grade, No Diploma (%)\": row_dict[\"S1501_C02_007E\"],\n",
    "            })\n"
   ]
  },
  {
   "cell_type": "markdown",
   "metadata": {},
   "source": [
    "Export to CSV"
   ]
  },
  {
   "cell_type": "code",
   "execution_count": 15,
   "metadata": {},
   "outputs": [
    {
     "name": "stdout",
     "output_type": "stream",
     "text": [
      "                                County High School Grad or Higher (%)  \\\n",
      "0               Dane County, Wisconsin                           96.3   \n",
      "1             Ramsey County, Minnesota                           91.5   \n",
      "2              Ingham County, Michigan                           93.5   \n",
      "3            Sangamon County, Illinois                           93.7   \n",
      "4               Marion County, Indiana                           87.7   \n",
      "5                Franklin County, Ohio                           91.2   \n",
      "6                    Polk County, Iowa                           92.5   \n",
      "7           Lancaster County, Nebraska                           93.5   \n",
      "8                 Travis County, Texas                           91.5   \n",
      "9             Multnomah County, Oregon                           92.3   \n",
      "10         Wake County, North Carolina                           94.0   \n",
      "11               Cook County, Illinois                           88.3   \n",
      "12  Mecklenburg County, North Carolina                           90.8   \n",
      "13             Brown County, Wisconsin                           93.3   \n",
      "14         Milwaukee County, Wisconsin                           89.6   \n",
      "15        Eau Claire County, Wisconsin                           96.0   \n",
      "\n",
      "   Bachelor's Degree or Higher (%) 9th to 12th Grade, No Diploma (%)  \n",
      "0                             54.4                               1.5  \n",
      "1                             45.5                               4.8  \n",
      "2                             41.3                               2.1  \n",
      "3                             35.1                               1.7  \n",
      "4                             34.1                               4.7  \n",
      "5                             42.0                               3.4  \n",
      "6                             39.5                               3.8  \n",
      "7                             41.1                               2.7  \n",
      "8                             55.5                               5.0  \n",
      "9                             48.6                               3.6  \n",
      "10                            56.3                               2.8  \n",
      "11                            41.9                               6.2  \n",
      "12                            48.6                               4.8  \n",
      "13                            32.4                               2.8  \n",
      "14                            33.9                               4.0  \n",
      "15                            35.7                               1.4  \n"
     ]
    }
   ],
   "source": [
    "df = pd.DataFrame(results)\n",
    "print(df)\n",
    "df.to_csv('college_graduate_rates.csv', index=False, quoting=csv.QUOTE_NONNUMERIC)"
   ]
  }
 ],
 "metadata": {
  "kernelspec": {
   "display_name": "venv",
   "language": "python",
   "name": "python3"
  },
  "language_info": {
   "codemirror_mode": {
    "name": "ipython",
    "version": 3
   },
   "file_extension": ".py",
   "mimetype": "text/x-python",
   "name": "python",
   "nbconvert_exporter": "python",
   "pygments_lexer": "ipython3",
   "version": "3.12.2"
  }
 },
 "nbformat": 4,
 "nbformat_minor": 2
}
